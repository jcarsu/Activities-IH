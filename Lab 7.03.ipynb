{
 "cells": [
  {
   "cell_type": "code",
   "execution_count": null,
   "id": "e3696422",
   "metadata": {},
   "outputs": [],
   "source": [
    "#Lab | Inferential statistics\n",
    "#Instructions\n",
    "\n",
    "#1. It is assumed that the mean systolic blood pressure is μ = 120 mm Hg. \n",
    "    #In the Honolulu Heart Study, a sample of n = 100 people had an average \n",
    "    #systolic blood pressure of 130.1 mm Hg with a standard deviation of 21.21 mm Hg. \n",
    "    #Is the group significantly different (with respect to systolic blood pressure!) from the regular population?\n",
    "\n",
    "    #Set up the hypothesis test.\n",
    "    #Write down all the steps followed for setting up the test.\n",
    "    #Calculate the test statistic by hand and also code it in Python. \n",
    "    #It should be 4.76190. We will take a look at how to make decisions based on this calculated value.\n",
    "    \n",
    "#2. If you finished the previous question, please go through the code for principal_component_analysis_example\n",
    "    #provided in the files_for_lab folder ."
   ]
  },
  {
   "cell_type": "markdown",
   "id": "a4d43265",
   "metadata": {},
   "source": [
    "### 1. Set up the hypothesis test.\n",
    "    #Write down all the steps followed for setting up the test.\n",
    "    #Calculate the test statistic by hand and also code it in Python. \n",
    "    #It should be 4.76190. We will take a look at how to make decisions based on this calculated value."
   ]
  },
  {
   "cell_type": "code",
   "execution_count": 1,
   "id": "bbbe185a",
   "metadata": {},
   "outputs": [
    {
     "name": "stdout",
     "output_type": "stream",
     "text": [
      "Statistic is:  4.761904761904759\n"
     ]
    }
   ],
   "source": [
    "from statistics import math #Importamos biblioteca\n",
    "\n",
    "sample_mean = 130.1 #Promedio (media) de la muestra\n",
    "pop_mean = 120 #Promedio (media) de la población\n",
    "pop_std = 21.21 #Desviación estándar\n",
    "n = 100 #Muestra\n",
    "statistic = (sample_mean - pop_mean)/(pop_std/math.sqrt(n))\n",
    "print(\"Statistic is: \", statistic)"
   ]
  },
  {
   "cell_type": "code",
   "execution_count": null,
   "id": "55c7b533",
   "metadata": {},
   "outputs": [],
   "source": []
  }
 ],
 "metadata": {
  "kernelspec": {
   "display_name": "Python 3 (ipykernel)",
   "language": "python",
   "name": "python3"
  },
  "language_info": {
   "codemirror_mode": {
    "name": "ipython",
    "version": 3
   },
   "file_extension": ".py",
   "mimetype": "text/x-python",
   "name": "python",
   "nbconvert_exporter": "python",
   "pygments_lexer": "ipython3",
   "version": "3.9.13"
  }
 },
 "nbformat": 4,
 "nbformat_minor": 5
}
