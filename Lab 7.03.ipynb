{
 "cells": [
  {
   "cell_type": "code",
   "execution_count": null,
   "id": "d1de8bfe",
   "metadata": {},
   "outputs": [],
   "source": [
    "#Lab | Inferential statistics\n",
    "#Instructions\n",
    "\n",
    "#1. It is assumed that the mean systolic blood pressure is μ = 120 mm Hg. \n",
    "    #In the Honolulu Heart Study, a sample of n = 100 people had an average \n",
    "    #systolic blood pressure of 130.1 mm Hg with a standard deviation of 21.21 mm Hg. \n",
    "    #Is the group significantly different (with respect to systolic blood pressure!) from the regular population?\n",
    "\n",
    "    #Set up the hypothesis test.\n",
    "    #Write down all the steps followed for setting up the test.\n",
    "    #Calculate the test statistic by hand and also code it in Python. \n",
    "    #It should be 4.76190. We will take a look at how to make decisions based on this calculated value.\n",
    "    \n",
    "#2. If you finished the previous question, please go through the code for principal_component_analysis_example\n",
    "    #provided in the files_for_lab folder ."
   ]
  },
  {
   "cell_type": "markdown",
   "id": "a8d2a6b4",
   "metadata": {},
   "source": [
    "### 1. Set up the hypothesis test.\n",
    "    #Write down all the steps followed for setting up the test.\n",
    "    #Calculate the test statistic by hand and also code it in Python. \n",
    "    #It should be 4.76190. We will take a look at how to make decisions based on this calculated value."
   ]
  },
  {
   "cell_type": "code",
   "execution_count": 1,
   "id": "cbc0caca",
   "metadata": {},
   "outputs": [
    {
     "name": "stdout",
     "output_type": "stream",
     "text": [
      "Statistic is:  4.761904761904759\n"
     ]
    }
   ],
   "source": [
    "from statistics import math #Importamos biblioteca\n",
    "\n",
    "sample_mean = 130.1 #Promedio (media) de la muestra\n",
    "pop_mean = 120 #Promedio (media) de la población\n",
    "pop_std = 21.21 #Desviación estándar\n",
    "n = 100 #Muestra\n",
    "statistic = (sample_mean - pop_mean)/(pop_std/math.sqrt(n))\n",
    "print(\"Statistic is: \", statistic)"
   ]
  },
  {
   "cell_type": "markdown",
   "id": "adcfaa18",
   "metadata": {},
   "source": [
    "x'= media muestral\n",
    "x'= 130.1\n",
    "µ = media poblacion\n",
    "s= desviacion estandar\n",
    "raiz cuadrada(n)= poblacion\n",
    "\n",
    "Estadistica T\n",
    "\n",
    "x'-µ/(s/r2(100))\n",
    "(130.1-120)/(21.21/((raiz2)(100)))\n",
    "(10.1)/(21.21/10)\n",
    "10.1/2.12\n",
    "\n",
    "T= 4.76190"
   ]
  },
  {
   "cell_type": "code",
   "execution_count": 2,
   "id": "5cc52d4c",
   "metadata": {},
   "outputs": [
    {
     "name": "stdout",
     "output_type": "stream",
     "text": [
      "El p-value es: 3.2814138822151114e-06\n"
     ]
    }
   ],
   "source": [
    "import scipy.stats\n",
    "print('El p-value es:',scipy.stats.t.sf(4.76190, df=99))"
   ]
  },
  {
   "cell_type": "code",
   "execution_count": 3,
   "id": "66faf114",
   "metadata": {},
   "outputs": [
    {
     "data": {
      "text/plain": [
       "99.99999671858612"
      ]
     },
     "execution_count": 3,
     "metadata": {},
     "output_type": "execute_result"
    }
   ],
   "source": [
    "100-3.2814138822151114e-06"
   ]
  },
  {
   "cell_type": "code",
   "execution_count": null,
   "id": "8f3335a4",
   "metadata": {},
   "outputs": [],
   "source": [
    "#El p-value es menor a 0.05, por lo tanto la hipotesis nula se rechaza.\n",
    "#Hay un 99.99% de confiabilidad para rechazar la hipotesis nula."
   ]
  },
  {
   "cell_type": "code",
   "execution_count": null,
   "id": "2b6e1d07",
   "metadata": {},
   "outputs": [],
   "source": [
    "#Si el p-value es negativo, a la formule se le antecede un uno (1-scipy.stats.sf(xxx, df=x))\n",
    "#Para evitar esto, se puede anteceder con un \"abs\" afuera del parentesis que precede al valor T"
   ]
  }
 ],
 "metadata": {
  "kernelspec": {
   "display_name": "Python 3 (ipykernel)",
   "language": "python",
   "name": "python3"
  },
  "language_info": {
   "codemirror_mode": {
    "name": "ipython",
    "version": 3
   },
   "file_extension": ".py",
   "mimetype": "text/x-python",
   "name": "python",
   "nbconvert_exporter": "python",
   "pygments_lexer": "ipython3",
   "version": "3.9.13"
  }
 },
 "nbformat": 4,
 "nbformat_minor": 5
}
